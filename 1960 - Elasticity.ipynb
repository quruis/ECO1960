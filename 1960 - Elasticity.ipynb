{
 "cells": [
  {
   "cell_type": "code",
   "execution_count": 1,
   "id": "72c4803c",
   "metadata": {},
   "outputs": [],
   "source": [
    "import pandas as pd\n",
    "from statsmodels.tsa.api import VAR\n",
    "from statsmodels.tsa.vector_ar.irf import IRAnalysis\n",
    "import matplotlib.pyplot as plt\n",
    "from statsmodels.tsa.stattools import adfuller\n",
    "import statsmodels.api as sm\n",
    "import numpy as np\n",
    "from statsmodels.tsa.arima.model import ARIMA\n",
    "from statsmodels.graphics.tsaplots import plot_acf, plot_pacf\n",
    "import scipy.stats as stats\n",
    "import statsmodels\n",
    "from statsmodels.tsa.api import AutoReg"
   ]
  },
  {
   "cell_type": "code",
   "execution_count": 2,
   "id": "3a110dcf",
   "metadata": {},
   "outputs": [
    {
     "data": {
      "text/html": [
       "<div>\n",
       "<style scoped>\n",
       "    .dataframe tbody tr th:only-of-type {\n",
       "        vertical-align: middle;\n",
       "    }\n",
       "\n",
       "    .dataframe tbody tr th {\n",
       "        vertical-align: top;\n",
       "    }\n",
       "\n",
       "    .dataframe thead th {\n",
       "        text-align: right;\n",
       "    }\n",
       "</style>\n",
       "<table border=\"1\" class=\"dataframe\">\n",
       "  <thead>\n",
       "    <tr style=\"text-align: right;\">\n",
       "      <th></th>\n",
       "      <th>Date</th>\n",
       "      <th>Pump_price</th>\n",
       "      <th>Fed_car_tax</th>\n",
       "      <th>GST_HST</th>\n",
       "      <th>Ret_sales</th>\n",
       "      <th>GDP</th>\n",
       "      <th>LFP</th>\n",
       "      <th>Car_Sales</th>\n",
       "      <th>Wages</th>\n",
       "    </tr>\n",
       "  </thead>\n",
       "  <tbody>\n",
       "    <tr>\n",
       "      <th>0</th>\n",
       "      <td>2017-01-01</td>\n",
       "      <td>111.5</td>\n",
       "      <td>0.0</td>\n",
       "      <td>12.8</td>\n",
       "      <td>8071889</td>\n",
       "      <td>1964009</td>\n",
       "      <td>2470188</td>\n",
       "      <td>46261</td>\n",
       "      <td>6256584</td>\n",
       "    </tr>\n",
       "    <tr>\n",
       "      <th>1</th>\n",
       "      <td>2017-02-01</td>\n",
       "      <td>107.6</td>\n",
       "      <td>0.0</td>\n",
       "      <td>12.4</td>\n",
       "      <td>8151735</td>\n",
       "      <td>1970851</td>\n",
       "      <td>2474779</td>\n",
       "      <td>52347</td>\n",
       "      <td>6284840</td>\n",
       "    </tr>\n",
       "    <tr>\n",
       "      <th>2</th>\n",
       "      <td>2017-03-01</td>\n",
       "      <td>106.9</td>\n",
       "      <td>0.0</td>\n",
       "      <td>12.3</td>\n",
       "      <td>8251571</td>\n",
       "      <td>1979281</td>\n",
       "      <td>2479370</td>\n",
       "      <td>77551</td>\n",
       "      <td>6295532</td>\n",
       "    </tr>\n",
       "    <tr>\n",
       "      <th>3</th>\n",
       "      <td>2017-04-01</td>\n",
       "      <td>115.3</td>\n",
       "      <td>0.0</td>\n",
       "      <td>13.3</td>\n",
       "      <td>8430747</td>\n",
       "      <td>1988478</td>\n",
       "      <td>2483961</td>\n",
       "      <td>82527</td>\n",
       "      <td>6297280</td>\n",
       "    </tr>\n",
       "    <tr>\n",
       "      <th>4</th>\n",
       "      <td>2017-05-01</td>\n",
       "      <td>112.4</td>\n",
       "      <td>0.0</td>\n",
       "      <td>12.9</td>\n",
       "      <td>8374712</td>\n",
       "      <td>1992334</td>\n",
       "      <td>2488553</td>\n",
       "      <td>93022</td>\n",
       "      <td>6308896</td>\n",
       "    </tr>\n",
       "  </tbody>\n",
       "</table>\n",
       "</div>"
      ],
      "text/plain": [
       "        Date  Pump_price  Fed_car_tax  GST_HST  Ret_sales      GDP      LFP  \\\n",
       "0 2017-01-01       111.5          0.0     12.8    8071889  1964009  2470188   \n",
       "1 2017-02-01       107.6          0.0     12.4    8151735  1970851  2474779   \n",
       "2 2017-03-01       106.9          0.0     12.3    8251571  1979281  2479370   \n",
       "3 2017-04-01       115.3          0.0     13.3    8430747  1988478  2483961   \n",
       "4 2017-05-01       112.4          0.0     12.9    8374712  1992334  2488553   \n",
       "\n",
       "   Car_Sales    Wages  \n",
       "0      46261  6256584  \n",
       "1      52347  6284840  \n",
       "2      77551  6295532  \n",
       "3      82527  6297280  \n",
       "4      93022  6308896  "
      ]
     },
     "execution_count": 2,
     "metadata": {},
     "output_type": "execute_result"
    }
   ],
   "source": [
    "# Read data from a CSV file with labels\n",
    "salesdata = \"https://raw.githubusercontent.com/quruis/ECO1960/main/1960%20data.csv\" \n",
    "df = pd.read_csv(salesdata)\n",
    "\n",
    "# Convert 'Date' column to datetime format if it's not already\n",
    "df['Date'] = pd.to_datetime(df['Date'])\n",
    "\n",
    "# Convert 'Date' column to datetime format if it's not already\n",
    "df['Date'] = pd.to_datetime(df['Date'])\n",
    "df.head()"
   ]
  },
  {
   "cell_type": "code",
   "execution_count": 3,
   "id": "857f1742",
   "metadata": {},
   "outputs": [
    {
     "name": "stdout",
     "output_type": "stream",
     "text": [
      "         Date  price_elasticity\n",
      "1  2017-02-01         -0.282806\n",
      "2  2017-03-01         -1.882571\n",
      "3  2017-04-01          0.276339\n",
      "4  2017-05-01          0.264256\n",
      "5  2017-06-01          0.404579\n",
      "..        ...               ...\n",
      "79 2023-08-01         -0.083220\n",
      "80 2023-09-01          0.259009\n",
      "81 2023-10-01          0.002452\n",
      "82 2023-11-01         -0.644583\n",
      "83 2023-12-01         -0.213398\n",
      "\n",
      "[83 rows x 2 columns]\n"
     ]
    },
    {
     "name": "stderr",
     "output_type": "stream",
     "text": [
      "C:\\Users\\Sheva\\AppData\\Local\\Temp/ipykernel_12368/3893824158.py:13: SettingWithCopyWarning: \n",
      "A value is trying to be set on a copy of a slice from a DataFrame.\n",
      "Try using .loc[row_indexer,col_indexer] = value instead\n",
      "\n",
      "See the caveats in the documentation: https://pandas.pydata.org/pandas-docs/stable/user_guide/indexing.html#returning-a-view-versus-a-copy\n",
      "  df1['price_elasticity'] = df1['ret_sales_change'] / df1['pump_price_change']\n"
     ]
    }
   ],
   "source": [
    "df1 = {}\n",
    "df1 = df\n",
    "\n",
    "# Assuming the data is stored in a DataFrame named df\n",
    "# Calculating percentage changes in ret_sales and pump_price\n",
    "df1['ret_sales_change'] = df1['Ret_sales'].pct_change() * 100\n",
    "df1['pump_price_change'] = df1['Pump_price'].pct_change() * 100\n",
    "\n",
    "# Dropping the first row since percentage change is undefined for it\n",
    "df1 = df1.dropna()\n",
    "\n",
    "# Calculating price elasticity using the formula\n",
    "df1['price_elasticity'] = df1['ret_sales_change'] / df1['pump_price_change']\n",
    "\n",
    "# Displaying the results\n",
    "print(df1[['Date', 'price_elasticity']])"
   ]
  },
  {
   "cell_type": "code",
   "execution_count": 4,
   "id": "055055bd",
   "metadata": {},
   "outputs": [
    {
     "name": "stdout",
     "output_type": "stream",
     "text": [
      "Average Price Elasticity: 0.10128354378664421\n"
     ]
    }
   ],
   "source": [
    "average_price_elasticity = df1['price_elasticity'].mean()\n",
    "print(\"Average Price Elasticity:\", average_price_elasticity)"
   ]
  },
  {
   "cell_type": "code",
   "execution_count": 5,
   "id": "123ef7da",
   "metadata": {},
   "outputs": [
    {
     "data": {
      "image/png": "[encoded data removed]",
      "text/plain": [
       "<Figure size 720x432 with 1 Axes>"
      ]
     },
     "metadata": {
      "needs_background": "light"
     },
     "output_type": "display_data"
    }
   ],
   "source": [
    "# Plotting price elasticity over time\n",
    "plt.figure(figsize=(10, 6))\n",
    "plt.plot(df1['Date'], df1['price_elasticity'], marker='o', linestyle='-')\n",
    "plt.title('Price Elasticity of Demand Over Time')\n",
    "plt.xlabel('Date')\n",
    "plt.ylabel('Price Elasticity')\n",
    "plt.xticks(rotation=45)\n",
    "plt.grid(True)\n",
    "plt.tight_layout()\n",
    "\n",
    "# Save the plot to a location\n",
    "save_path = \"C:/Users/Sheva/Desktop/Images/\"\n",
    "plt.savefig(save_path + \"price_elasticity_plot.png\")\n",
    "\n",
    "# Display the plot\n",
    "plt.show()\n"
   ]
  },
  {
   "cell_type": "code",
   "execution_count": 13,
   "id": "77db8124",
   "metadata": {},
   "outputs": [
    {
     "name": "stdout",
     "output_type": "stream",
     "text": [
      "Average Price Elasticity (without outliers): 0.09100178026726558\n"
     ]
    }
   ],
   "source": [
    "# Calculate the first and third quartiles\n",
    "Q1 = df1['price_elasticity'].quantile(0.25)\n",
    "Q3 = df1['price_elasticity'].quantile(0.75)\n",
    "\n",
    "# Calculate the interquartile range\n",
    "IQR = Q3 - Q1\n",
    "\n",
    "# Define the lower and upper bounds to identify outliers\n",
    "lower_bound = Q1 - 1.5 * IQR\n",
    "upper_bound = Q3 + 1.5 * IQR\n",
    "\n",
    "# Filter out the outliers\n",
    "filtered_data = df1[(df1['price_elasticity'] >= lower_bound) & (df1['price_elasticity'] <= upper_bound)]\n",
    "\n",
    "# Calculate the average price elasticity without outliers\n",
    "average_price_elasticity = filtered_data['price_elasticity'].mean()\n",
    "\n",
    "print(\"Average Price Elasticity (without outliers):\", average_price_elasticity)\n"
   ]
  },
  {
   "cell_type": "code",
   "execution_count": 6,
   "id": "017bc3cb",
   "metadata": {},
   "outputs": [
    {
     "name": "stdout",
     "output_type": "stream",
     "text": [
      "Average price elasticity is not statistically significant (p >= 0.05)\n"
     ]
    }
   ],
   "source": [
    "from scipy.stats import ttest_1samp\n",
    "\n",
    "# Perform one-sample t-test\n",
    "t_statistic, p_value = ttest_1samp(df1['price_elasticity'], 0)\n",
    "\n",
    "# Define significance level\n",
    "alpha = 0.05\n",
    "\n",
    "# Check for significance\n",
    "if p_value < alpha:\n",
    "    print(\"Average price elasticity is statistically significant (p < {:.2f})\".format(alpha))\n",
    "else:\n",
    "    print(\"Average price elasticity is not statistically significant (p >= {:.2f})\".format(alpha))"
   ]
  },
  {
   "cell_type": "code",
   "execution_count": 7,
   "id": "59a246b0",
   "metadata": {},
   "outputs": [
    {
     "name": "stdout",
     "output_type": "stream",
     "text": [
      "         Date  Pump_price  Fed_car_tax  GST_HST  Ret_sales      GDP      LFP  \\\n",
      "0  2017-01-01       111.5          0.0     12.8    8071889  1964009  2470188   \n",
      "1  2017-02-01       107.6          0.0     12.4    8151735  1970851  2474779   \n",
      "2  2017-03-01       106.9          0.0     12.3    8251571  1979281  2479370   \n",
      "3  2017-04-01       115.3          0.0     13.3    8430747  1988478  2483961   \n",
      "4  2017-05-01       112.4          0.0     12.9    8374712  1992334  2488553   \n",
      "5  2017-06-01       107.4          0.0     12.4    8223990  1996718  2493144   \n",
      "6  2017-07-01       109.9          0.0     12.6    8272201  1995462  2497735   \n",
      "7  2017-08-01       112.3          0.0     12.9    8529984  1993294  2503335   \n",
      "8  2017-09-01       118.8          0.0     13.7    8367993  1998202  2508935   \n",
      "9  2017-10-01       115.1          0.0     13.2    8536718  1998437  2514535   \n",
      "10 2017-11-01       122.3          0.0     14.1    8554292  2007905  2520134   \n",
      "11 2017-12-01       120.9          0.0     13.9    8513456  2013398  2525734   \n",
      "12 2018-01-01       124.0          0.0     14.3    8560481  2019953  2531334   \n",
      "13 2018-02-01       123.4          0.0     14.2    8552028  2028077  2536934   \n",
      "14 2018-03-01       125.6          0.0     14.4    8609939  2033962  2542534   \n",
      "15 2018-04-01       133.5          0.0     15.4    8352764  2035739  2548133   \n",
      "16 2018-05-01       137.1          0.0     15.8    8551087  2045730  2553733   \n",
      "17 2018-06-01       134.4          0.0     15.5    8875467  2049895  2559333   \n",
      "18 2018-07-01       135.8          0.0     15.6    8738058  2054928  2564933   \n",
      "19 2018-08-01       133.3          0.0     15.3    8889234  2058341  2569313   \n",
      "20 2018-09-01       130.1          0.0     15.0    8860099  2061405  2573692   \n",
      "21 2018-10-01       124.0          0.0     14.3    9107057  2066429  2578072   \n",
      "22 2018-11-01       111.5          0.0     12.8    8870124  2062372  2582452   \n",
      "23 2018-12-01       104.9          0.0     12.1    8856185  2061233  2586832   \n",
      "24 2019-01-01       102.7          0.0     11.8    8816847  2066857  2591212   \n",
      "25 2019-02-01       103.1          0.0     11.9    8828820  2061643  2595592   \n",
      "26 2019-03-01       114.9          0.0     13.2    8853920  2073524  2599972   \n",
      "27 2019-04-01       127.0          4.4     14.6    8970817  2082057  2604352   \n",
      "28 2019-05-01       127.8          4.4     14.7    9184031  2090257  2608732   \n",
      "29 2019-06-01       118.9          4.4     13.7    9178795  2097348  2613112   \n",
      "30 2019-07-01       125.5          4.4     14.4    9284227  2097348  2617492   \n",
      "31 2019-08-01       118.5          4.4     13.6    9185404  2096045  2621363   \n",
      "32 2019-09-01       116.3          4.4     13.4    9297821  2099629  2625234   \n",
      "33 2019-10-01       116.9          4.4     13.4    9098712  2102201  2629105   \n",
      "34 2019-11-01       116.3          4.4     13.4    9338893  2103255  2632976   \n",
      "35 2019-12-01       116.6          4.4     13.4    9725583  2104915  2636847   \n",
      "36 2020-01-01       114.5          4.4     13.2    9609562  2110057  2640718   \n",
      "37 2020-02-01       111.2          4.4     12.8    9791269  2114454  2644589   \n",
      "\n",
      "    Car_Sales    Wages  ret_sales_change  pump_price_change  \n",
      "0       46261  6256584               NaN                NaN  \n",
      "1       52347  6284840          0.989186          -3.497758  \n",
      "2       77551  6295532          1.224721          -0.650558  \n",
      "3       82527  6297280          2.171417           7.857811  \n",
      "4       93022  6308896         -0.664650          -2.515178  \n",
      "5       86238  6352201         -1.799728          -4.448399  \n",
      "6       75235  6343680          0.586224           2.327747  \n",
      "7       74726  6358178          3.116256           2.183803  \n",
      "8       78676  6387118         -1.899077           5.788068  \n",
      "9       68064  6365715          2.016314          -3.114478  \n",
      "10      68232  6377551          0.205864           6.255430  \n",
      "11      54276  6400597         -0.477374          -1.144726  \n",
      "12      48501  6401434          0.552361           2.564103  \n",
      "13      55744  6415718         -0.098744          -0.483871  \n",
      "14      81571  6432205          0.677161           1.782820  \n",
      "15      80983  6430388         -2.986955           6.289809  \n",
      "16      92629  6468004          2.374340           2.696629  \n",
      "17      90647  6480683          3.793436          -1.969365  \n",
      "18      77108  6482267         -1.548189           1.041667  \n",
      "19      78170  6508873          1.730087          -1.840943  \n",
      "20      76176  6525145         -0.327756          -2.400600  \n",
      "21      68869  6548643          2.787305          -4.688701  \n",
      "22      64106  6552230         -2.601642         -10.080645  \n",
      "23      52344  6545452         -0.157145          -5.919283  \n",
      "24      45870  6569727         -0.444187          -2.097235  \n",
      "25      52995  6584697          0.135797           0.389484  \n",
      "26      81601  6586527          0.284296          11.445199  \n",
      "27      79260  6587346          1.320285          10.530896  \n",
      "28      85911  6607578          2.376751           0.629921  \n",
      "29      84638  6594829         -0.057012          -6.964006  \n",
      "30      75508  6624593          1.148648           5.550883  \n",
      "31      81521  6643585         -1.064418          -5.577689  \n",
      "32      74369  6630487          1.223866          -1.856540  \n",
      "33      69853  6631926         -2.141459           0.515907  \n",
      "34      65439  6651047          2.639725          -0.513259  \n",
      "35      51741  6645242          4.140641           0.257954  \n",
      "36      47763  6666088         -1.192946          -1.801029  \n",
      "37      55616  6663032          1.890898          -2.882096  \n"
     ]
    }
   ],
   "source": [
    "# Filter data up to April 1, 2020\n",
    "df2 = {}\n",
    "df2 = df[df['Date'] <= '2020-02-01']\n",
    "\n",
    "\n",
    "# Display the filtered DataFrame\n",
    "print(df2)"
   ]
  },
  {
   "cell_type": "code",
   "execution_count": 8,
   "id": "11e0cad4",
   "metadata": {},
   "outputs": [
    {
     "name": "stdout",
     "output_type": "stream",
     "text": [
      "         Date  log_Pump_price  log_Fed_car_tax  log_GST_HST  log_Ret_sales  \\\n",
      "0  2017-01-01        4.714025         0.000000     2.549445      15.903898   \n",
      "1  2017-02-01        4.678421         0.000000     2.517696      15.913741   \n",
      "2  2017-03-01        4.671894         0.000000     2.509599      15.925914   \n",
      "3  2017-04-01        4.747537         0.000000     2.587764      15.947396   \n",
      "4  2017-05-01        4.722064         0.000000     2.557227      15.940727   \n",
      "5  2017-06-01        4.676560         0.000000     2.517696      15.922566   \n",
      "6  2017-07-01        4.699571         0.000000     2.533697      15.928411   \n",
      "7  2017-08-01        4.721174         0.000000     2.557227      15.959098   \n",
      "8  2017-09-01        4.777441         0.000000     2.617396      15.939925   \n",
      "9  2017-10-01        4.745801         0.000000     2.580217      15.959887   \n",
      "10 2017-11-01        4.806477         0.000000     2.646175      15.961944   \n",
      "11 2017-12-01        4.794964         0.000000     2.631889      15.957159   \n",
      "12 2018-01-01        4.820282         0.000000     2.660260      15.962667   \n",
      "13 2018-02-01        4.815431         0.000000     2.653242      15.961679   \n",
      "14 2018-03-01        4.833102         0.000000     2.667228      15.968428   \n",
      "15 2018-04-01        4.894101         0.000000     2.734368      15.938103   \n",
      "16 2018-05-01        4.920711         0.000000     2.760010      15.961569   \n",
      "17 2018-06-01        4.900820         0.000000     2.740840      15.998802   \n",
      "18 2018-07-01        4.911183         0.000000     2.747271      15.983199   \n",
      "19 2018-08-01        4.892602         0.000000     2.727853      16.000351   \n",
      "20 2018-09-01        4.868303         0.000000     2.708050      15.997068   \n",
      "21 2018-10-01        4.820282         0.000000     2.660260      16.024560   \n",
      "22 2018-11-01        4.714025         0.000000     2.549445      15.998199   \n",
      "23 2018-12-01        4.653008         0.000000     2.493205      15.996627   \n",
      "24 2019-01-01        4.631812         0.000000     2.468100      15.992175   \n",
      "25 2019-02-01        4.635699         0.000000     2.476538      15.993532   \n",
      "26 2019-03-01        4.744062         0.000000     2.580217      15.996371   \n",
      "27 2019-04-01        4.844187         1.481605     2.681022      16.009487   \n",
      "28 2019-05-01        4.850467         1.481605     2.687847      16.032977   \n",
      "29 2019-06-01        4.778283         1.481605     2.617396      16.032406   \n",
      "30 2019-07-01        4.832306         1.481605     2.667228      16.043827   \n",
      "31 2019-08-01        4.774913         1.481605     2.610070      16.033126   \n",
      "32 2019-09-01        4.756173         1.481605     2.595255      16.045291   \n",
      "33 2019-10-01        4.761319         1.481605     2.595255      16.023643   \n",
      "34 2019-11-01        4.756173         1.481605     2.595255      16.049698   \n",
      "35 2019-12-01        4.758749         1.481605     2.595255      16.090270   \n",
      "36 2020-01-01        4.740575         1.481605     2.580217      16.078269   \n",
      "37 2020-02-01        4.711330         1.481605     2.549445      16.097002   \n",
      "\n",
      "      log_GDP    log_LFP  log_Car_Sales  log_Wages  log_ret_sales_change  \\\n",
      "0   14.490498  14.719805      10.742055  15.649145                   NaN   \n",
      "1   14.493976  14.721662      10.865650  15.653651             -0.010873   \n",
      "2   14.498244  14.723515      11.258691  15.655351              0.202713   \n",
      "3   14.502880  14.725365      11.320881  15.655628              0.775380   \n",
      "4   14.504817  14.727212      11.440591  15.657471                   NaN   \n",
      "5   14.507015  14.729055      11.364866  15.664312                   NaN   \n",
      "6   14.506386  14.730895      11.228372  15.662970             -0.534053   \n",
      "7   14.505299  14.733134      11.221583  15.665252              1.136632   \n",
      "8   14.507758  14.735369      11.273093  15.669794                   NaN   \n",
      "9   14.507876  14.737598      11.128204  15.666437              0.701271   \n",
      "10  14.512602  14.739823      11.130669  15.668295             -1.580541   \n",
      "11  14.515334  14.742042      10.901837  15.671902                   NaN   \n",
      "12  14.518585  14.744257      10.789340  15.672033             -0.593554   \n",
      "13  14.522599  14.746467      10.928525  15.674261                   NaN   \n",
      "14  14.525496  14.748672      11.309229  15.676828             -0.389846   \n",
      "15  14.526369  14.750871      11.301995  15.676545                   NaN   \n",
      "16  14.531265  14.753067      11.436358  15.682378              0.864719   \n",
      "17  14.533299  14.755257      11.414728  15.684336              1.333272   \n",
      "18  14.535751  14.757443      11.252962  15.684581                   NaN   \n",
      "19  14.537411  14.759149      11.266641  15.688677              0.548172   \n",
      "20  14.538898  14.760852      11.240802  15.691174                   NaN   \n",
      "21  14.541333  14.762552      11.139961  15.694768              1.025075   \n",
      "22  14.539367  14.764250      11.068293  15.695316                   NaN   \n",
      "23  14.538815  14.765945      10.865593  15.694281                   NaN   \n",
      "24  14.541540  14.767636      10.733567  15.697983                   NaN   \n",
      "25  14.539014  14.769325      10.877953  15.700259             -1.996595   \n",
      "26  14.544760  14.771011      11.309597  15.700537             -1.257739   \n",
      "27  14.548867  14.772694      11.280489  15.700661              0.277848   \n",
      "28  14.552798  14.774375      11.361067  15.703728              0.865735   \n",
      "29  14.556184  14.776052      11.346139  15.701796                   NaN   \n",
      "30  14.556184  14.777727      11.231994  15.706299              0.138585   \n",
      "31  14.555563  14.779205      11.308616  15.709162                   NaN   \n",
      "32  14.557271  14.780681      11.216794  15.707189              0.202014   \n",
      "33  14.558495  14.782154      11.154148  15.707406                   NaN   \n",
      "34  14.558997  14.783625      11.088874  15.710285              0.970675   \n",
      "35  14.559786  14.785094      10.854006  15.709412              1.420851   \n",
      "36  14.562226  14.786561      10.774007  15.712544                   NaN   \n",
      "37  14.564307  14.788026      10.926226  15.712085              0.637052   \n",
      "\n",
      "    log_pump_price_change  \n",
      "0                     NaN  \n",
      "1                     NaN  \n",
      "2                     NaN  \n",
      "3                2.061508  \n",
      "4                     NaN  \n",
      "5                     NaN  \n",
      "6                0.844901  \n",
      "7                0.781068  \n",
      "8                1.755799  \n",
      "9                     NaN  \n",
      "10               1.833450  \n",
      "11                    NaN  \n",
      "12               0.941609  \n",
      "13                    NaN  \n",
      "14               0.578196  \n",
      "15               1.838931  \n",
      "16               0.992003  \n",
      "17                    NaN  \n",
      "18               0.040822  \n",
      "19                    NaN  \n",
      "20                    NaN  \n",
      "21                    NaN  \n",
      "22                    NaN  \n",
      "23                    NaN  \n",
      "24                    NaN  \n",
      "25              -0.942933  \n",
      "26               2.437570  \n",
      "27               2.354313  \n",
      "28              -0.462160  \n",
      "29                    NaN  \n",
      "30               1.713957  \n",
      "31                    NaN  \n",
      "32                    NaN  \n",
      "33              -0.661828  \n",
      "34                    NaN  \n",
      "35              -1.354976  \n",
      "36                    NaN  \n",
      "37                    NaN  \n"
     ]
    },
    {
     "name": "stderr",
     "output_type": "stream",
     "text": [
      "C:\\Users\\Sheva\\anaconda3.1\\lib\\site-packages\\pandas\\core\\arraylike.py:364: RuntimeWarning: divide by zero encountered in log\n",
      "  result = getattr(ufunc, method)(*inputs, **kwargs)\n",
      "C:\\Users\\Sheva\\anaconda3.1\\lib\\site-packages\\pandas\\core\\arraylike.py:364: RuntimeWarning: invalid value encountered in log\n",
      "  result = getattr(ufunc, method)(*inputs, **kwargs)\n"
     ]
    }
   ],
   "source": [
    "# Create a new DataFrame for the log-transformed values\n",
    "log_df = pd.DataFrame()\n",
    "\n",
    "# Copy 'Date' column to new DataFrame\n",
    "log_df['Date'] = df2['Date']\n",
    "\n",
    "# Log-transform numerical columns (excluding 'Date')\n",
    "for column in df.columns[1:]:\n",
    "    # Calculate logarithm, replace -inf with 0\n",
    "    log_values = np.log(df2[column])\n",
    "    log_values[log_values == -np.inf] = 0\n",
    "    log_df['log_' + column] = log_values\n",
    "\n",
    "# Display the new DataFrame\n",
    "print(log_df)"
   ]
  },
  {
   "cell_type": "code",
   "execution_count": 9,
   "id": "9e389d3a",
   "metadata": {},
   "outputs": [
    {
     "name": "stdout",
     "output_type": "stream",
     "text": [
      "         Date  price_elasticity\n",
      "1  2017-02-01         -0.282806\n",
      "2  2017-03-01         -1.882571\n",
      "3  2017-04-01          0.276339\n",
      "4  2017-05-01          0.264256\n",
      "5  2017-06-01          0.404579\n",
      "6  2017-07-01          0.251842\n",
      "7  2017-08-01          1.426986\n",
      "8  2017-09-01         -0.328102\n",
      "9  2017-10-01         -0.647400\n",
      "10 2017-11-01          0.032910\n",
      "11 2017-12-01          0.417021\n",
      "12 2018-01-01          0.215421\n",
      "13 2018-02-01          0.204072\n",
      "14 2018-03-01          0.379826\n",
      "15 2018-04-01         -0.474888\n",
      "16 2018-05-01          0.880484\n",
      "17 2018-06-01         -1.926222\n",
      "18 2018-07-01         -1.486261\n",
      "19 2018-08-01         -0.939783\n",
      "20 2018-09-01          0.136531\n",
      "21 2018-10-01         -0.594473\n",
      "22 2018-11-01          0.258083\n",
      "23 2018-12-01          0.026548\n",
      "24 2019-01-01          0.211796\n",
      "25 2019-02-01          0.348658\n",
      "26 2019-03-01          0.024840\n",
      "27 2019-04-01          0.125373\n",
      "28 2019-05-01          3.773093\n",
      "29 2019-06-01          0.008187\n",
      "30 2019-07-01          0.206931\n",
      "31 2019-08-01          0.190835\n",
      "32 2019-09-01         -0.659219\n",
      "33 2019-10-01         -4.150861\n",
      "34 2019-11-01         -5.143065\n",
      "35 2019-12-01         16.051884\n",
      "36 2020-01-01          0.662369\n",
      "37 2020-02-01         -0.656084\n"
     ]
    },
    {
     "name": "stderr",
     "output_type": "stream",
     "text": [
      "C:\\Users\\Sheva\\AppData\\Local\\Temp/ipykernel_12368/1807726826.py:3: SettingWithCopyWarning: \n",
      "A value is trying to be set on a copy of a slice from a DataFrame.\n",
      "Try using .loc[row_indexer,col_indexer] = value instead\n",
      "\n",
      "See the caveats in the documentation: https://pandas.pydata.org/pandas-docs/stable/user_guide/indexing.html#returning-a-view-versus-a-copy\n",
      "  df2['ret_sales_change'] = df2['Ret_sales'].pct_change() * 100\n",
      "C:\\Users\\Sheva\\AppData\\Local\\Temp/ipykernel_12368/1807726826.py:4: SettingWithCopyWarning: \n",
      "A value is trying to be set on a copy of a slice from a DataFrame.\n",
      "Try using .loc[row_indexer,col_indexer] = value instead\n",
      "\n",
      "See the caveats in the documentation: https://pandas.pydata.org/pandas-docs/stable/user_guide/indexing.html#returning-a-view-versus-a-copy\n",
      "  df2['pump_price_change'] = df2['Pump_price'].pct_change() * 100\n"
     ]
    }
   ],
   "source": [
    "# Assuming the data is stored in a DataFrame named log_df\n",
    "# Calculating percentage changes in ret_sales and pump_price\n",
    "df2['ret_sales_change'] = df2['Ret_sales'].pct_change() * 100\n",
    "df2['pump_price_change'] = df2['Pump_price'].pct_change() * 100\n",
    "\n",
    "# Dropping the first row since percentage change is undefined for it\n",
    "df2 = df2.dropna()\n",
    "\n",
    "# Calculating price elasticity using the formula\n",
    "df2['price_elasticity'] = df2['ret_sales_change'] / df2['pump_price_change']\n",
    "\n",
    "# Displaying the results\n",
    "print(df2[['Date', 'price_elasticity']])"
   ]
  },
  {
   "cell_type": "code",
   "execution_count": 10,
   "id": "536f1f21",
   "metadata": {},
   "outputs": [
    {
     "name": "stdout",
     "output_type": "stream",
     "text": [
      "Average Price Elasticity: 0.2055979733474438\n"
     ]
    }
   ],
   "source": [
    "average_price_elasticity = df2['price_elasticity'].mean()\n",
    "print(\"Average Price Elasticity:\", average_price_elasticity)"
   ]
  },
  {
   "cell_type": "code",
   "execution_count": 11,
   "id": "d73aa4dd",
   "metadata": {},
   "outputs": [
    {
     "data": {
      "image/png": "[encoded data removed]",
      "text/plain": [
       "<Figure size 720x432 with 1 Axes>"
      ]
     },
     "metadata": {
      "needs_background": "light"
     },
     "output_type": "display_data"
    }
   ],
   "source": [
    "import matplotlib.pyplot as plt\n",
    "\n",
    "# Plotting price elasticity over time\n",
    "plt.figure(figsize=(10, 6))\n",
    "plt.plot(df2['Date'], df2['price_elasticity'], marker='o', linestyle='-')\n",
    "plt.title('Price Elasticity of Demand Over Time')\n",
    "plt.xlabel('Date')\n",
    "plt.ylabel('Price Elasticity')\n",
    "plt.xticks(rotation=45)\n",
    "plt.grid(True)\n",
    "plt.tight_layout()\n",
    "\n",
    "# Save the plot to a location\n",
    "save_path = \"C:/Users/Sheva/Desktop/Images/\"\n",
    "plt.savefig(save_path + \"price_elasticity_plot2.png\")\n",
    "\n",
    "# Display the plot\n",
    "plt.show()\n"
   ]
  },
  {
   "cell_type": "code",
   "execution_count": 14,
   "id": "983b0198",
   "metadata": {},
   "outputs": [
    {
     "name": "stdout",
     "output_type": "stream",
     "text": [
      "Average Price Elasticity (without outliers): -0.031178221429939854\n"
     ]
    }
   ],
   "source": [
    "# Calculate the first and third quartiles\n",
    "Q1 = df2['price_elasticity'].quantile(0.25)\n",
    "Q3 = df2['price_elasticity'].quantile(0.75)\n",
    "\n",
    "# Calculate the interquartile range\n",
    "IQR = Q3 - Q1\n",
    "\n",
    "# Define the lower and upper bounds to identify outliers\n",
    "lower_bound = Q1 - 1.5 * IQR\n",
    "upper_bound = Q3 + 1.5 * IQR\n",
    "\n",
    "# Filter out the outliers\n",
    "filtered_data = df2[(df2['price_elasticity'] >= lower_bound) & (df2['price_elasticity'] <= upper_bound)]\n",
    "\n",
    "# Calculate the average price elasticity without outliers\n",
    "average_price_elasticity = filtered_data['price_elasticity'].mean()\n",
    "\n",
    "print(\"Average Price Elasticity (without outliers):\", average_price_elasticity)"
   ]
  },
  {
   "cell_type": "code",
   "execution_count": null,
   "id": "d80082ef",
   "metadata": {},
   "outputs": [],
   "source": []
  },
  {
   "cell_type": "code",
   "execution_count": 12,
   "id": "d810b97d",
   "metadata": {},
   "outputs": [
    {
     "name": "stdout",
     "output_type": "stream",
     "text": [
      "Average price elasticity is not statistically significant (p >= 0.05)\n"
     ]
    }
   ],
   "source": [
    "from scipy.stats import ttest_1samp\n",
    "\n",
    "# Perform one-sample t-test\n",
    "t_statistic, p_value = ttest_1samp(df1['price_elasticity'], 0)\n",
    "\n",
    "# Define significance level\n",
    "alpha = 0.05\n",
    "\n",
    "# Check for significance\n",
    "if p_value < alpha:\n",
    "    print(\"Average price elasticity is statistically significant (p < {:.2f})\".format(alpha))\n",
    "else:\n",
    "    print(\"Average price elasticity is not statistically significant (p >= {:.2f})\".format(alpha))"
   ]
  }
 ],
 "metadata": {
  "kernelspec": {
   "display_name": "Python 3 (ipykernel)",
   "language": "python",
   "name": "python3"
  },
  "language_info": {
   "codemirror_mode": {
    "name": "ipython",
    "version": 3
   },
   "file_extension": ".py",
   "mimetype": "text/x-python",
   "name": "python",
   "nbconvert_exporter": "python",
   "pygments_lexer": "ipython3",
   "version": "3.8.8"
  }
 },
 "nbformat": 4,
 "nbformat_minor": 5
}
